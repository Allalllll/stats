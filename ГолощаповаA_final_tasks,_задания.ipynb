{
  "nbformat": 4,
  "nbformat_minor": 0,
  "metadata": {
    "colab": {
      "provenance": []
    },
    "kernelspec": {
      "name": "python3",
      "display_name": "Python 3"
    },
    "language_info": {
      "name": "python"
    }
  },
  "cells": [
    {
      "cell_type": "markdown",
      "source": [
        "Final tasks\n",
        "\n",
        "Голощапова Алла\n",
        "\n",
        "группа 306"
      ],
      "metadata": {
        "id": "2RJZIRBcUteO"
      }
    },
    {
      "cell_type": "markdown",
      "source": [
        "# Задание 1"
      ],
      "metadata": {
        "id": "LXKLb_0-xfDS"
      }
    },
    {
      "cell_type": "markdown",
      "source": [
        "Задание 1\n",
        "\n",
        "- Сгенерировать данные, извлеченные из нормального распределения, оценить методом максимального правдоподобия параметры распределения. Сравнить оцененные параметры с исходными.\n",
        "- Пусть alpha = 0.01. Найти доверительный интервал с уровнем доверия 1 - alpha для параметра sigma^2\n",
        "\n"
      ],
      "metadata": {
        "id": "nmZROedlxdSc"
      }
    },
    {
      "cell_type": "code",
      "source": [
        "import numpy as np\n",
        "from scipy.stats import norm\n",
        "import scipy.stats as stats\n",
        "from statistics import variance\n"
      ],
      "metadata": {
        "id": "6oQ_GUy9zMeR"
      },
      "execution_count": null,
      "outputs": []
    },
    {
      "cell_type": "code",
      "source": [
        "sample_1 =  np.random.normal(loc=2, scale=5, size=100) # генерация данных\n",
        "mean_av, variance_av  = np.mean(sample_1), variance(sample_1)\n",
        "mean_mle, variance_mle = norm.fit(sample_1) # оценка параметров\n",
        "print(mean_av, variance_av)\n",
        "print(f'Метод максимального правдоподобия: 1) оценка среднего: {mean_mle}, 2) оценка дисперсии: {variance_mle}')\n",
        "\n",
        "alpha = 0.01 # уровень доверия 1 - alpha для параметра sigma^2\n",
        "inter = stats.t.interval(confidence=1 - alpha, df=len(sample_1)-1, loc=np.mean(sample_1), scale=stats.sem(sample_1))\n",
        "print('\\nДоверительный интервал: ', inter)"
      ],
      "metadata": {
        "id": "SUdz_VYYxh6c",
        "colab": {
          "base_uri": "https://localhost:8080/"
        },
        "outputId": "0560fa5f-0dd6-418e-e594-5a7b5a7500fe"
      },
      "execution_count": null,
      "outputs": [
        {
          "output_type": "stream",
          "name": "stdout",
          "text": [
            "2.8130648658431476 22.218181194228205\n",
            "Метод максимального правдоподобия: 1) оценка среднего: 2.8130648658431476, 2) оценка дисперсии: 4.689989273152544\n",
            "\n",
            "Доверительный интервал:  (1.575078037264136, 4.051051694422159)\n"
          ]
        }
      ]
    },
    {
      "cell_type": "markdown",
      "source": [
        "# Задание 2\n",
        "\n",
        "У кого не сделано -- выполнить все задания из ноутбуков по семинарам 3 и 4. По заданию 3 с семинара 4 сделать выводы о результатах тестов (написать словами)\n",
        "\n",
        "(3 семинар - ниже, 4 было сделано https://colab.research.google.com/drive/1m-hPs2SYe3tqOg6T79-RDQuUQnCV4egj?usp=sharing )"
      ],
      "metadata": {
        "id": "Tk8G_sjb3et6"
      }
    },
    {
      "cell_type": "markdown",
      "source": [
        "### Задание 2.1\n",
        "\n",
        "Проверьте для примера выше случай уровня доверия 0.01 и **0.001**"
      ],
      "metadata": {
        "id": "5BhVoeI341Kp"
      }
    },
    {
      "cell_type": "code",
      "source": [
        "import numpy as np\n",
        "import scipy.stats as stats\n",
        "\n",
        "data = [77660, 77461, 71211, 80287, 69798, 89570, 66486, 82513, 167335, 63020, 81304, 70325, 70451, 83819, 82742, 97737, 91025, 91025, 78769, 87018, 161702, 59574, 61260, 202998]\n",
        "\n",
        "# Для уровня доверия 0.01\n",
        "confidence_001 = stats.t.interval(0.99, df=len(data)-1, loc=np.mean(data), scale=stats.sem(data))\n",
        "print(\"Доверительный интервал для уровня доверия 0.01:\", confidence_001)\n",
        "\n",
        "# Для уровня доверия 0.001\n",
        "confidence_0001 = stats.t.interval(0.999, df=len(data)-1, loc=np.mean(data), scale=stats.sem(data))\n",
        "print(\"Доверительный интервал для уровня доверия 0.001:\", confidence_0001)\n"
      ],
      "metadata": {
        "id": "de0_tYSbbbTB",
        "colab": {
          "base_uri": "https://localhost:8080/"
        },
        "outputId": "95304f86-eb2a-4c66-85d0-15b296af2534"
      },
      "execution_count": null,
      "outputs": [
        {
          "output_type": "stream",
          "name": "stdout",
          "text": [
            "Доверительный интервал для уровня доверия 0.01: (69767.4213664546, 110656.74530021206)\n",
            "Доверительный интервал для уровня доверия 0.001: (62774.019240785885, 117650.1474258811)\n"
          ]
        }
      ]
    },
    {
      "cell_type": "markdown",
      "source": [
        "Задание 2.2\n",
        "\n",
        "Похожим образом можно оценить доверительный интервал для стандартного отклонения. Что для этого нужно сделать? Напишите код."
      ],
      "metadata": {
        "id": "4MYTSwIP4_LT"
      }
    },
    {
      "cell_type": "code",
      "source": [
        "alpha = 0.05\n",
        "n = len(data)\n",
        "var = np.var(data, ddof = 1)\n",
        "\n",
        "chi_l, chi_r = stats.chi2.ppf([1 - alpha/2, alpha/2], df = n - 1)\n",
        "\n",
        "left_bound = np.sqrt((n - 1) * var / chi_l) #  в отличии от дисперсии для стандартного отклонения - корень\n",
        "right_bound = np.sqrt((n - 1) * var / chi_r)\n",
        "\n",
        "print(f\"Доверительный интервал для стандартного отклонения:  {left_bound, right_bound}\")"
      ],
      "metadata": {
        "colab": {
          "base_uri": "https://localhost:8080/"
        },
        "id": "f6Nz4NHWfKrj",
        "outputId": "7db92d7f-1c45-49ee-9965-8279568c83a5"
      },
      "execution_count": null,
      "outputs": [
        {
          "output_type": "stream",
          "name": "stdout",
          "text": [
            "Доверительный интервал для стандартного отклонения:  (27728.833111002717, 50046.62232186614)\n"
          ]
        }
      ]
    },
    {
      "cell_type": "markdown",
      "source": [
        "Задание 2.3\n",
        "\n",
        "Имеется выборка data_1. С помощью критерия Пирсона χ2 проверить, извлечена ли выборка из нормально распределенной генеральной совокупности. На основании полученного p−value сделать соответствующие вывод"
      ],
      "metadata": {
        "id": "b3v7S1wm5H6L"
      }
    },
    {
      "cell_type": "code",
      "source": [
        "data_1 = np.array([-0.92381148, -7.85423217, -3.84392923,  2.09793605, -6.44121148, -6.90856921,\n",
        " -4.86015786, -3.18982485, -2.0663121,  -0.97537333, -7.49210514, 15.10622733,\n",
        " -2.24056844, -0.30024337,  3.0771819,   3.87282985,  1.44277686,  3.1350076,\n",
        " -0.2087979,  -1.96891233, -8.41806126,  3.48189129,  8.29465749, -0.3019667,\n",
        "  3.59492783,  1.47310056,  1.45552366,  0.48111867, -6.76769424, -9.21688519,\n",
        "  5.86148415,  1.49726226, -7.92089753, -1.72609032, -2.56080562,  2.96248152,\n",
        " -3.38978766,  5.78684458,  5.63570755, -0.17762366,  2.28412479,  2.08721277,\n",
        " -7.8374102,   5.36420193,  0.90097827,  3.77879897, -2.29114273, -4.31106285,\n",
        " -3.13829459, -0.81855704])\n",
        "\n",
        "alpha = 0.05\n",
        "chis = stats.chisquare(data_1)\n",
        "print(chis[1])"
      ],
      "metadata": {
        "id": "-AnQ4IEv5MON",
        "colab": {
          "base_uri": "https://localhost:8080/"
        },
        "outputId": "1ef19c6c-1ea7-46bd-afc4-2e9de0f57409"
      },
      "execution_count": null,
      "outputs": [
        {
          "output_type": "stream",
          "name": "stdout",
          "text": [
            "1.0\n"
          ]
        }
      ]
    },
    {
      "cell_type": "markdown",
      "source": [
        "Не отвергаем нулевую гипотезу,можно считать, что выборка извлечена из нормально распределенной генеральной совокупности.\n"
      ],
      "metadata": {
        "id": "pou7g2a4TnqA"
      }
    },
    {
      "cell_type": "markdown",
      "source": [
        "# Задание 3"
      ],
      "metadata": {
        "id": "1ygogARdMfyk"
      }
    },
    {
      "cell_type": "markdown",
      "source": [
        "\n",
        "\n",
        "Задание 3\n",
        "\n",
        "Использовать данные Boston с занятий. Линейную регрессию по этим данным мы уже построили. Теперь требуется проверить условия Гаусса--Маркова. Необходимо:\n",
        "1. Проверить остатки модели на нормальность, используя\n",
        "- критерий Колмогорова--Смирнова или, как его еще называют, тест Лиллиефорса (https://www.statsmodels.org/dev/generated/statsmodels.stats.diagnostic.lilliefors.html)\n",
        "2. Проверить остатки модели на гетероскедастичность, используя\n",
        "- тест Голдфелда--Квандта (https://www.statsmodels.org/dev/generated/statsmodels.stats.diagnostic.het_goldfeldquandt.html)\n",
        "- тест Бройша--Пагана (https://www.statsmodels.org/stable/generated/statsmodels.stats.diagnostic.het_breuschpagan.html)\n",
        "3. Проверить наличие автокорреляции в остатках с помощью\n",
        "- теста Бройша--Годфри (https://www.statsmodels.org/dev/generated/statsmodels.stats.diagnostic.acorr_breusch_godfrey.html)\n",
        "- тест Дарбина--Уотсона (https://www.statsmodels.org/dev/generated/statsmodels.stats.stattools.durbin_watson.html) Вернется значение статистики: если оно будет находиться в пределах от 1.5 до 2.5, то автокорреляция в остатках не наблюдается.\n",
        "\n",
        "Сделать выводы по результатам этих тестов (написать словами) о выполнении условий Гаусса--Маркова. Что можно сказать о качестве модели?"
      ],
      "metadata": {
        "id": "MSD0F4Y-xWlc"
      }
    },
    {
      "cell_type": "code",
      "source": [
        "import numpy as np\n",
        "import pandas as pd\n",
        "import statsmodels.api as sm\n",
        "from statsmodels.stats.diagnostic import het_goldfeldquandt, het_breuschpagan, acorr_breusch_godfrey\n",
        "from statsmodels.stats.diagnostic import normal_ad\n",
        "from statsmodels.stats.stattools import durbin_watson\n"
      ],
      "metadata": {
        "id": "tvnmwfdLtVat"
      },
      "execution_count": null,
      "outputs": []
    },
    {
      "cell_type": "code",
      "source": [
        "house_data = pd.read_csv('BostonHousing.csv')\n",
        "X = pd.DataFrame(house_data.iloc[:, 0:-1])\n",
        "y = house_data['medv']\n",
        "X = sm.add_constant(X)\n",
        "\n",
        "model = sm.OLS(y, X).fit()"
      ],
      "metadata": {
        "id": "_0koZMERtciT"
      },
      "execution_count": null,
      "outputs": []
    },
    {
      "cell_type": "code",
      "source": [
        "# # Проверка остатков модели на нормальность\n",
        "normal = normal_ad(model.resid)[1]\n",
        "\n",
        "print(f\"Тест Колмогорова-Смирнова: {normal}\")"
      ],
      "metadata": {
        "colab": {
          "base_uri": "https://localhost:8080/"
        },
        "id": "Zsx0_NOsuOEA",
        "outputId": "d0df2933-1264-480b-cc30-334dac46c489"
      },
      "execution_count": null,
      "outputs": [
        {
          "output_type": "stream",
          "name": "stdout",
          "text": [
            "Тест Колмогорова-Смирнова: 2.162183463169403e-25\n"
          ]
        }
      ]
    },
    {
      "cell_type": "markdown",
      "source": [
        "тк значение вероятности близко к 0, то отклоненяется гипотеза о нормальности\n",
        "\n",
        "не выполняется условие нормальности Гаусса-Маркова"
      ],
      "metadata": {
        "id": "ZaG_Y9HIN_iP"
      }
    },
    {
      "cell_type": "code",
      "source": [
        "# Проверка остатков модели на гетероскедастичность\n",
        "gf = het_goldfeldquandt(model.resid, X)[1]\n",
        "bp = het_breuschpagan(model.resid, X)[1]\n",
        "\n",
        "print(f\"Тест Голдфелда-Квандта: {gf}, тест Бройша-Пагана:{bp}\")"
      ],
      "metadata": {
        "id": "buWEoXg6uMGZ",
        "colab": {
          "base_uri": "https://localhost:8080/"
        },
        "outputId": "b802db99-32aa-45df-8b02-bf4e79c233a7"
      },
      "execution_count": null,
      "outputs": [
        {
          "output_type": "stream",
          "name": "stdout",
          "text": [
            "Тест Голдфелда-Квандта: 7.302071915608971e-12, тест Бройша-Пагана:6.265430719873663e-09\n"
          ]
        }
      ]
    },
    {
      "cell_type": "markdown",
      "source": [
        "присутствует гетероскедастичность,\n",
        "\n",
        "не выполняется условие гомоскедастичности Гаусса-Маркова"
      ],
      "metadata": {
        "id": "CajbvyIsSQzn"
      }
    },
    {
      "cell_type": "code",
      "source": [
        "# Проверка наличия автокорреляции в остатках\n",
        "bg_test = acorr_breusch_godfrey(model, nlags=1)\n",
        "dw_statistic = durbin_watson(model.resid)\n",
        "\n",
        "print(f\"Тест Бройша-Годфри: {bg_test[1]}, nест Дарбина-Уотсона: {dw_statistic}\")\n"
      ],
      "metadata": {
        "id": "XXOwY3_ksbk0",
        "colab": {
          "base_uri": "https://localhost:8080/"
        },
        "outputId": "46dd8dd7-0310-4ad7-90a7-a5164ef5b58d"
      },
      "execution_count": null,
      "outputs": [
        {
          "output_type": "stream",
          "name": "stdout",
          "text": [
            "Тест Бройша-Годфри: 1.0533841688380185e-25, nест Дарбина-Уотсона: 1.0783751186797201\n"
          ]
        }
      ]
    },
    {
      "cell_type": "markdown",
      "source": [
        "автокорреляция в остатках может присутствовать и  1.08 не находится между 1.5 и 2.5\n",
        "след-но, также не выполняется  еще одно условие - отсутсвие автокорреляции - Гаусса-Маркова"
      ],
      "metadata": {
        "id": "i_olWldQPAuI"
      }
    },
    {
      "cell_type": "markdown",
      "source": [
        "Таким образом,  модель не удовлетворяет трем условиям Гаусса–Маркова. Из этого следует вывод, что модель не можем назвать*нормальной линейной* регрессионной моделью."
      ],
      "metadata": {
        "id": "tpOsBTqUT6Bf"
      }
    }
  ]
}