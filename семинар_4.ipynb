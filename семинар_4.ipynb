{
  "nbformat": 4,
  "nbformat_minor": 0,
  "metadata": {
    "colab": {
      "provenance": []
    },
    "kernelspec": {
      "name": "python3",
      "display_name": "Python 3"
    },
    "language_info": {
      "name": "python"
    }
  },
  "cells": [
    {
      "cell_type": "markdown",
      "source": [
        "## **Задание 1**\n",
        "\n",
        "Сгенерируйте две выборки из нормального (или любого другого распределения) и посмотрите, что покажет тест. Сделайте соответствующие выводы.\n",
        "\n",
        "Для генерации нормально распределенных выборок можно использовать np.random.normal\n"
      ],
      "metadata": {
        "id": "Ld8Y4DAAvQBM"
      }
    },
    {
      "cell_type": "code",
      "execution_count": null,
      "metadata": {
        "id": "FQdEB2Ri0c0y"
      },
      "outputs": [],
      "source": [
        "import numpy as np\n",
        "import scipy.stats as stats"
      ]
    },
    {
      "cell_type": "code",
      "source": [
        "sample1 = np.random.normal(loc=0, scale=1, size=100)  # Выборка 1\n",
        "sample2 = np.random.normal(loc=0.5, scale=1.2, size=100)  # Выборка 2\n",
        "z = stats.ttest_ind(sample1, sample2)\n",
        "\n",
        "z"
      ],
      "metadata": {
        "colab": {
          "base_uri": "https://localhost:8080/"
        },
        "id": "R6OL3iij0uWu",
        "outputId": "30398e1f-620f-41ec-b9e9-c2721c501277"
      },
      "execution_count": null,
      "outputs": [
        {
          "output_type": "execute_result",
          "data": {
            "text/plain": [
              "TtestResult(statistic=-2.086160151620549, pvalue=0.03824513272892757, df=198.0)"
            ]
          },
          "metadata": {},
          "execution_count": 13
        }
      ]
    },
    {
      "cell_type": "markdown",
      "source": [
        "## **Задание 2**\n",
        "\n",
        "Выполнить тест Стьюдента для данных\n",
        "\n",
        "data1 = [14, 15, 15, 16, 13, 8, 14, 17, 16, 14, 19, 20, 21, 15, 15, 16, 16, 13, 14, 12]\n",
        "\n",
        "data2 = [15, 17, 14, 17, 14, 8, 12, 19, 19, 14, 17, 22, 24, 16, 13, 16, 13, 18, 15, 13]\n"
      ],
      "metadata": {
        "id": "FC3hK5Ak7L7M"
      }
    },
    {
      "cell_type": "code",
      "source": [
        "data1 = [14, 15, 15, 16, 13, 8, 14, 17, 16, 14, 19, 20, 21, 15, 15, 16, 16, 13, 14, 12]\n",
        "data2 = [15, 17, 14, 17, 14, 8, 12, 19, 19, 14, 17, 22, 24, 16, 13, 16, 13, 18, 15, 13]\n",
        "\n",
        "stats.ttest_ind(data1, data2)"
      ],
      "metadata": {
        "colab": {
          "base_uri": "https://localhost:8080/"
        },
        "id": "nO1TjEX924YL",
        "outputId": "35f109d1-eff2-4eb5-9bbc-ea58fb7806a7"
      },
      "execution_count": null,
      "outputs": [
        {
          "output_type": "execute_result",
          "data": {
            "text/plain": [
              "TtestResult(statistic=-0.6337397070250238, pvalue=0.5300471010405257, df=38.0)"
            ]
          },
          "metadata": {},
          "execution_count": 15
        }
      ]
    },
    {
      "cell_type": "markdown",
      "source": [
        "## **Задание 3**\n",
        "\n",
        "Для имеющихся выборок\n",
        "\n",
        "X = [0.5, 0.8, 4.6, 0.94, 1.45]\n",
        "\n",
        "Y = [1.1, 0.74, 0.91, 0.71, 1.02]\n",
        "\n",
        "провести тесты Вилкоксона и Манна--Уитни."
      ],
      "metadata": {
        "id": "6KZ53HQpydyL"
      }
    },
    {
      "cell_type": "code",
      "source": [
        "X = [0.5, 0.8, 4.6, 0.94, 1.45]\n",
        "Y = [1.1, 0.74, 0.91, 0.71, 1.02]\n",
        "\n",
        "stats.mannwhitneyu(X, Y)"
      ],
      "metadata": {
        "colab": {
          "base_uri": "https://localhost:8080/"
        },
        "id": "H-syqo9E3Kbp",
        "outputId": "b98cbae8-b64a-452b-f4ef-357bebddae1b"
      },
      "execution_count": null,
      "outputs": [
        {
          "output_type": "execute_result",
          "data": {
            "text/plain": [
              "MannwhitneyuResult(statistic=15.0, pvalue=0.6904761904761905)"
            ]
          },
          "metadata": {},
          "execution_count": 16
        }
      ]
    }
  ]
}